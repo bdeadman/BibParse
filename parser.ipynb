{
 "cells": [
  {
   "cell_type": "markdown",
   "id": "d7e95c55-9ef3-40b5-b47f-8fdf45935e54",
   "metadata": {},
   "source": [
    "## Parsing a .bib file to DataFrame and .xlsx"
   ]
  },
  {
   "cell_type": "markdown",
   "id": "12ed7855-a8a2-4797-bdde-a1df02e4d20e",
   "metadata": {},
   "source": [
    "Install dependencies if not already:"
   ]
  },
  {
   "cell_type": "code",
   "execution_count": null,
   "id": "a6490e79-7d79-4c47-9845-591144431ab9",
   "metadata": {},
   "outputs": [],
   "source": [
    "!pip install pandas\n",
    "!pip install xlsxwriter\n",
    "!pip install bibtexparser"
   ]
  },
  {
   "cell_type": "markdown",
   "id": "29b230d5-83a4-47fe-b0d2-95a21f48eb56",
   "metadata": {},
   "source": [
    "Parse the .bib file:"
   ]
  },
  {
   "cell_type": "code",
   "execution_count": 54,
   "id": "27805926-9fcd-4976-a0ee-475c96d18c08",
   "metadata": {},
   "outputs": [],
   "source": [
    "from bib_parser import parse_bibtex, open_pdfs\n",
    "from bib_formatter import save_xlsx\n",
    "\n",
    "# Specify bibtex fields you want to parse. You can also manually add columns in the xlsx\n",
    "# file ones it is created, that are kept. Add those here as well:\n",
    "fields = ['title', 'month', 'year', 'category', 'author', 'publisher', \n",
    "          'file', 'note', 'abstract']\n",
    "\n",
    "# Get the fields into DataFrame as columns (index=title):\n",
    "bib_df = parse_bibtex(fields, file='bibliography.bib')\n",
    "\n",
    "# Save to formatted .xlsx file:\n",
    "save_xlsx(bib_df, \"overview.xlsx\", cols=fields)\n",
    "\n",
    "# Display the DataFrame:\n",
    "_ = bib_df"
   ]
  },
  {
   "cell_type": "code",
   "execution_count": 32,
   "id": "f365ef75-e49d-4b55-98e4-ecb989f051a4",
   "metadata": {},
   "outputs": [],
   "source": [
    "open_pdfs(bib_df[bib_df.category == \"VDU Model\"].sample(3))"
   ]
  }
 ],
 "metadata": {
  "kernelspec": {
   "display_name": "Python 3 (ipykernel)",
   "language": "python",
   "name": "python3"
  },
  "language_info": {
   "codemirror_mode": {
    "name": "ipython",
    "version": 3
   },
   "file_extension": ".py",
   "mimetype": "text/x-python",
   "name": "python",
   "nbconvert_exporter": "python",
   "pygments_lexer": "ipython3",
   "version": "3.11.7"
  }
 },
 "nbformat": 4,
 "nbformat_minor": 5
}
